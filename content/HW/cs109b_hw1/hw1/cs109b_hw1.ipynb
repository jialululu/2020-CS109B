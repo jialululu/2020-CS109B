{
 "cells": [
  {
   "cell_type": "markdown",
   "metadata": {},
   "source": [
    "# <img style=\"float: left; padding-right: 10px; width: 45px\" src=\"https://raw.githubusercontent.com/Harvard-IACS/2018-CS109A/master/content/styles/iacs.png\"> CS109B Data Science 2: Advanced Topics in Data Science \n",
    "## Homework 1 - Smoothers and Generalized Additive Models\n",
    "\n",
    "\n",
    "\n",
    "**Harvard University**<br/>\n",
    "**Spring 2020**<br/>\n",
    "**Instructors**: Mark Glickman, Pavlos Protopapas, & Chris Tanner\n",
    "\n",
    "\n",
    "<hr style=\"height:2pt\">"
   ]
  },
  {
   "cell_type": "markdown",
   "metadata": {},
   "source": [
    "### Homework 1 is due February 6th"
   ]
  },
  {
   "cell_type": "code",
   "execution_count": 1,
   "metadata": {},
   "outputs": [
    {
     "data": {
      "text/html": [
       "<style>\n",
       "blockquote { background: #AEDE94; }\n",
       "h1 { \n",
       "    padding-top: 25px;\n",
       "    padding-bottom: 25px;\n",
       "    text-align: left; \n",
       "    padding-left: 10px;\n",
       "    background-color: #DDDDDD; \n",
       "    color: black;\n",
       "}\n",
       "h2 { \n",
       "    padding-top: 10px;\n",
       "    padding-bottom: 10px;\n",
       "    text-align: left; \n",
       "    padding-left: 5px;\n",
       "    background-color: #EEEEEE; \n",
       "    color: black;\n",
       "}\n",
       "\n",
       "div.exercise {\n",
       "\tbackground-color: #ffcccc;\n",
       "\tborder-color: #E9967A; \t\n",
       "\tborder-left: 5px solid #800080; \n",
       "\tpadding: 0.5em;\n",
       "}\n",
       "\n",
       "span.sub-q {\n",
       "\tfont-weight: bold;\n",
       "}\n",
       "div.theme {\n",
       "\tbackground-color: #DDDDDD;\n",
       "\tborder-color: #E9967A; \t\n",
       "\tborder-left: 5px solid #800080; \n",
       "\tpadding: 0.5em;\n",
       "\tfont-size: 18pt;\n",
       "}\n",
       "div.gc { \n",
       "\tbackground-color: #AEDE94;\n",
       "\tborder-color: #E9967A; \t \n",
       "\tborder-left: 5px solid #800080; \n",
       "\tpadding: 0.5em;\n",
       "\tfont-size: 12pt;\n",
       "}\n",
       "p.q1 { \n",
       "    padding-top: 5px;\n",
       "    padding-bottom: 5px;\n",
       "    text-align: left; \n",
       "    padding-left: 5px;\n",
       "    background-color: #EEEEEE; \n",
       "    color: black;\n",
       "}\n",
       "header {\n",
       "   padding-top: 35px;\n",
       "    padding-bottom: 35px;\n",
       "    text-align: left; \n",
       "    padding-left: 10px;\n",
       "    background-color: #DDDDDD; \n",
       "    color: black;\n",
       "}\n",
       "</style>\n",
       "\n"
      ],
      "text/plain": [
       "<IPython.core.display.HTML object>"
      ]
     },
     "execution_count": 1,
     "metadata": {},
     "output_type": "execute_result"
    }
   ],
   "source": [
    "#PLEASE RUN THIS CELL \n",
    "import requests\n",
    "from IPython.core.display import HTML\n",
    "styles = requests.get(\"https://raw.githubusercontent.com/Harvard-IACS/2018-CS109A/master/content/styles/cs109.css\").text\n",
    "HTML(styles)"
   ]
  },
  {
   "cell_type": "markdown",
   "metadata": {},
   "source": [
    "### INSTRUCTIONS\n",
    "\n",
    "- To submit your assignment, please follow the instructions on Canvas.\n",
    "- Please restart the kernel and run the entire notebook again before you submit.\n",
    "\n",
    "<hr style=\"height:2pt\">"
   ]
  },
  {
   "cell_type": "markdown",
   "metadata": {},
   "source": [
    "### Please use the libraries below:"
   ]
  },
  {
   "cell_type": "code",
   "execution_count": 2,
   "metadata": {},
   "outputs": [],
   "source": [
    "import pandas as pd\n",
    "import numpy as np\n",
    "import datetime\n",
    "import matplotlib.pyplot as plt\n",
    "%matplotlib inline\n",
    "import statsmodels.formula.api as sm\n",
    "from sklearn.preprocessing import PolynomialFeatures\n",
    "from sklearn.metrics import r2_score\n",
    "from sklearn.model_selection import KFold\n",
    "from pygam import LinearGAM, s, f\n",
    "from sklearn.preprocessing import LabelEncoder\n",
    "from sklearn.linear_model import LinearRegression\n",
    "from pandas.plotting import scatter_matrix\n",
    "\n",
    "# Seaborn visualization library\n",
    "import seaborn as sns"
   ]
  },
  {
   "cell_type": "markdown",
   "metadata": {},
   "source": [
    "\n",
    "<hr style=\"height:2pt\">"
   ]
  },
  {
   "cell_type": "markdown",
   "metadata": {},
   "source": [
    "### Problem 1 - Modeling Seasonality of Airbnb Prices\n",
    "In this problem, the task is to build a regression model to predict the price of an Airbnb rental for a given date. The data are provided in `calendar_train.csv` and `calendar_test.csv`, which contain availability and price data for a sample of Airbnb units in the Boston area from 2017 to 2018, about 4 observations per day in each set."
   ]
  },
  {
   "cell_type": "markdown",
   "metadata": {},
   "source": [
    "Start by loading the data using pandas.  \n",
    "*Hint*: You likely want to have pandas parse the `date` column as a datetime object via the `parse_dates` argument of `pd.read_csv`"
   ]
  },
  {
   "cell_type": "code",
   "execution_count": 3,
   "metadata": {},
   "outputs": [
    {
     "data": {
      "text/html": [
       "<div>\n",
       "<style scoped>\n",
       "    .dataframe tbody tr th:only-of-type {\n",
       "        vertical-align: middle;\n",
       "    }\n",
       "\n",
       "    .dataframe tbody tr th {\n",
       "        vertical-align: top;\n",
       "    }\n",
       "\n",
       "    .dataframe thead th {\n",
       "        text-align: right;\n",
       "    }\n",
       "</style>\n",
       "<table border=\"1\" class=\"dataframe\">\n",
       "  <thead>\n",
       "    <tr style=\"text-align: right;\">\n",
       "      <th></th>\n",
       "      <th>listing_id</th>\n",
       "      <th>date</th>\n",
       "      <th>available</th>\n",
       "      <th>price</th>\n",
       "    </tr>\n",
       "  </thead>\n",
       "  <tbody>\n",
       "    <tr>\n",
       "      <th>123</th>\n",
       "      <td>20872145</td>\n",
       "      <td>4/2/18</td>\n",
       "      <td>t</td>\n",
       "      <td>62.0</td>\n",
       "    </tr>\n",
       "    <tr>\n",
       "      <th>124</th>\n",
       "      <td>20872145</td>\n",
       "      <td>4/1/18</td>\n",
       "      <td>t</td>\n",
       "      <td>59.0</td>\n",
       "    </tr>\n",
       "    <tr>\n",
       "      <th>125</th>\n",
       "      <td>20872145</td>\n",
       "      <td>3/31/18</td>\n",
       "      <td>t</td>\n",
       "      <td>75.0</td>\n",
       "    </tr>\n",
       "    <tr>\n",
       "      <th>126</th>\n",
       "      <td>20872145</td>\n",
       "      <td>3/30/18</td>\n",
       "      <td>t</td>\n",
       "      <td>71.0</td>\n",
       "    </tr>\n",
       "    <tr>\n",
       "      <th>127</th>\n",
       "      <td>20872145</td>\n",
       "      <td>3/28/18</td>\n",
       "      <td>t</td>\n",
       "      <td>51.0</td>\n",
       "    </tr>\n",
       "    <tr>\n",
       "      <th>...</th>\n",
       "      <td>...</td>\n",
       "      <td>...</td>\n",
       "      <td>...</td>\n",
       "      <td>...</td>\n",
       "    </tr>\n",
       "    <tr>\n",
       "      <th>733756</th>\n",
       "      <td>15589328</td>\n",
       "      <td>6/26/18</td>\n",
       "      <td>t</td>\n",
       "      <td>149.0</td>\n",
       "    </tr>\n",
       "    <tr>\n",
       "      <th>733757</th>\n",
       "      <td>15589328</td>\n",
       "      <td>6/25/18</td>\n",
       "      <td>t</td>\n",
       "      <td>149.0</td>\n",
       "    </tr>\n",
       "    <tr>\n",
       "      <th>733758</th>\n",
       "      <td>15589328</td>\n",
       "      <td>6/23/18</td>\n",
       "      <td>t</td>\n",
       "      <td>149.0</td>\n",
       "    </tr>\n",
       "    <tr>\n",
       "      <th>733759</th>\n",
       "      <td>15589328</td>\n",
       "      <td>6/22/18</td>\n",
       "      <td>t</td>\n",
       "      <td>149.0</td>\n",
       "    </tr>\n",
       "    <tr>\n",
       "      <th>733766</th>\n",
       "      <td>15589328</td>\n",
       "      <td>11/1/17</td>\n",
       "      <td>t</td>\n",
       "      <td>101.0</td>\n",
       "    </tr>\n",
       "  </tbody>\n",
       "</table>\n",
       "<p>309288 rows × 4 columns</p>\n",
       "</div>"
      ],
      "text/plain": [
       "        listing_id     date available  price\n",
       "123       20872145   4/2/18         t   62.0\n",
       "124       20872145   4/1/18         t   59.0\n",
       "125       20872145  3/31/18         t   75.0\n",
       "126       20872145  3/30/18         t   71.0\n",
       "127       20872145  3/28/18         t   51.0\n",
       "...            ...      ...       ...    ...\n",
       "733756    15589328  6/26/18         t  149.0\n",
       "733757    15589328  6/25/18         t  149.0\n",
       "733758    15589328  6/23/18         t  149.0\n",
       "733759    15589328  6/22/18         t  149.0\n",
       "733766    15589328  11/1/17         t  101.0\n",
       "\n",
       "[309288 rows x 4 columns]"
      ]
     },
     "execution_count": 3,
     "metadata": {},
     "output_type": "execute_result"
    }
   ],
   "source": [
    "#your code here\n",
    "df_train = pd.read_csv(\"data/calendar_train.csv\", parse_dates=True)\n",
    "df_test = pd.read_csv(\"data/calendar_test.csv\", parse_dates=True)\n",
    "\n",
    "# drop rows without price\n",
    "df_train.dropna(inplace=True)\n",
    "df_test.dropna(inplace=True)\n",
    "\n",
    "df_train"
   ]
  },
  {
   "cell_type": "code",
   "execution_count": 4,
   "metadata": {},
   "outputs": [
    {
     "data": {
      "text/html": [
       "<div>\n",
       "<style scoped>\n",
       "    .dataframe tbody tr th:only-of-type {\n",
       "        vertical-align: middle;\n",
       "    }\n",
       "\n",
       "    .dataframe tbody tr th {\n",
       "        vertical-align: top;\n",
       "    }\n",
       "\n",
       "    .dataframe thead th {\n",
       "        text-align: right;\n",
       "    }\n",
       "</style>\n",
       "<table border=\"1\" class=\"dataframe\">\n",
       "  <thead>\n",
       "    <tr style=\"text-align: right;\">\n",
       "      <th></th>\n",
       "      <th>listing_id</th>\n",
       "      <th>price</th>\n",
       "    </tr>\n",
       "  </thead>\n",
       "  <tbody>\n",
       "    <tr>\n",
       "      <th>count</th>\n",
       "      <td>3.092880e+05</td>\n",
       "      <td>309288.000000</td>\n",
       "    </tr>\n",
       "    <tr>\n",
       "      <th>mean</th>\n",
       "      <td>1.185732e+07</td>\n",
       "      <td>238.780612</td>\n",
       "    </tr>\n",
       "    <tr>\n",
       "      <th>std</th>\n",
       "      <td>6.716094e+06</td>\n",
       "      <td>188.527983</td>\n",
       "    </tr>\n",
       "    <tr>\n",
       "      <th>min</th>\n",
       "      <td>3.781000e+03</td>\n",
       "      <td>15.000000</td>\n",
       "    </tr>\n",
       "    <tr>\n",
       "      <th>25%</th>\n",
       "      <td>5.940866e+06</td>\n",
       "      <td>115.000000</td>\n",
       "    </tr>\n",
       "    <tr>\n",
       "      <th>50%</th>\n",
       "      <td>1.302981e+07</td>\n",
       "      <td>190.000000</td>\n",
       "    </tr>\n",
       "    <tr>\n",
       "      <th>75%</th>\n",
       "      <td>1.815527e+07</td>\n",
       "      <td>299.000000</td>\n",
       "    </tr>\n",
       "    <tr>\n",
       "      <th>max</th>\n",
       "      <td>2.122836e+07</td>\n",
       "      <td>5993.000000</td>\n",
       "    </tr>\n",
       "  </tbody>\n",
       "</table>\n",
       "</div>"
      ],
      "text/plain": [
       "         listing_id          price\n",
       "count  3.092880e+05  309288.000000\n",
       "mean   1.185732e+07     238.780612\n",
       "std    6.716094e+06     188.527983\n",
       "min    3.781000e+03      15.000000\n",
       "25%    5.940866e+06     115.000000\n",
       "50%    1.302981e+07     190.000000\n",
       "75%    1.815527e+07     299.000000\n",
       "max    2.122836e+07    5993.000000"
      ]
     },
     "execution_count": 4,
     "metadata": {},
     "output_type": "execute_result"
    }
   ],
   "source": [
    "df_train.describe()"
   ]
  },
  {
   "cell_type": "code",
   "execution_count": 5,
   "metadata": {},
   "outputs": [],
   "source": [
    "# parsing datetime into weekday and month\n",
    "df_train['date']=pd.to_datetime(df_train['date'])\n",
    "df_train['weekday'] = pd.Series(df_train.date).dt.weekday\n",
    "df_test['date']=pd.to_datetime(df_test['date'])\n",
    "df_test['weekday']=pd.Series(df_train.date).dt.weekday\n",
    "\n",
    "df_train['date_month']=df_train['date'].apply(lambda x: datetime.datetime.strptime(str(x), '%Y-%m-%d %H:%M:%S').date())\n",
    "df_train['month']=df_train['date_month'].apply(lambda x: datetime.datetime.strptime(str(x), '%Y-%m-%d').month)"
   ]
  },
  {
   "cell_type": "code",
   "execution_count": 6,
   "metadata": {},
   "outputs": [
    {
     "data": {
      "text/html": [
       "<div>\n",
       "<style scoped>\n",
       "    .dataframe tbody tr th:only-of-type {\n",
       "        vertical-align: middle;\n",
       "    }\n",
       "\n",
       "    .dataframe tbody tr th {\n",
       "        vertical-align: top;\n",
       "    }\n",
       "\n",
       "    .dataframe thead th {\n",
       "        text-align: right;\n",
       "    }\n",
       "</style>\n",
       "<table border=\"1\" class=\"dataframe\">\n",
       "  <thead>\n",
       "    <tr style=\"text-align: right;\">\n",
       "      <th></th>\n",
       "      <th>listing_id</th>\n",
       "      <th>date</th>\n",
       "      <th>available</th>\n",
       "      <th>price</th>\n",
       "      <th>weekday</th>\n",
       "      <th>date_month</th>\n",
       "      <th>month</th>\n",
       "    </tr>\n",
       "  </thead>\n",
       "  <tbody>\n",
       "    <tr>\n",
       "      <th>123</th>\n",
       "      <td>20872145</td>\n",
       "      <td>2018-04-02</td>\n",
       "      <td>t</td>\n",
       "      <td>62.0</td>\n",
       "      <td>0</td>\n",
       "      <td>2018-04-02</td>\n",
       "      <td>4</td>\n",
       "    </tr>\n",
       "    <tr>\n",
       "      <th>124</th>\n",
       "      <td>20872145</td>\n",
       "      <td>2018-04-01</td>\n",
       "      <td>t</td>\n",
       "      <td>59.0</td>\n",
       "      <td>6</td>\n",
       "      <td>2018-04-01</td>\n",
       "      <td>4</td>\n",
       "    </tr>\n",
       "    <tr>\n",
       "      <th>125</th>\n",
       "      <td>20872145</td>\n",
       "      <td>2018-03-31</td>\n",
       "      <td>t</td>\n",
       "      <td>75.0</td>\n",
       "      <td>5</td>\n",
       "      <td>2018-03-31</td>\n",
       "      <td>3</td>\n",
       "    </tr>\n",
       "    <tr>\n",
       "      <th>126</th>\n",
       "      <td>20872145</td>\n",
       "      <td>2018-03-30</td>\n",
       "      <td>t</td>\n",
       "      <td>71.0</td>\n",
       "      <td>4</td>\n",
       "      <td>2018-03-30</td>\n",
       "      <td>3</td>\n",
       "    </tr>\n",
       "    <tr>\n",
       "      <th>127</th>\n",
       "      <td>20872145</td>\n",
       "      <td>2018-03-28</td>\n",
       "      <td>t</td>\n",
       "      <td>51.0</td>\n",
       "      <td>2</td>\n",
       "      <td>2018-03-28</td>\n",
       "      <td>3</td>\n",
       "    </tr>\n",
       "    <tr>\n",
       "      <th>...</th>\n",
       "      <td>...</td>\n",
       "      <td>...</td>\n",
       "      <td>...</td>\n",
       "      <td>...</td>\n",
       "      <td>...</td>\n",
       "      <td>...</td>\n",
       "      <td>...</td>\n",
       "    </tr>\n",
       "    <tr>\n",
       "      <th>733756</th>\n",
       "      <td>15589328</td>\n",
       "      <td>2018-06-26</td>\n",
       "      <td>t</td>\n",
       "      <td>149.0</td>\n",
       "      <td>1</td>\n",
       "      <td>2018-06-26</td>\n",
       "      <td>6</td>\n",
       "    </tr>\n",
       "    <tr>\n",
       "      <th>733757</th>\n",
       "      <td>15589328</td>\n",
       "      <td>2018-06-25</td>\n",
       "      <td>t</td>\n",
       "      <td>149.0</td>\n",
       "      <td>0</td>\n",
       "      <td>2018-06-25</td>\n",
       "      <td>6</td>\n",
       "    </tr>\n",
       "    <tr>\n",
       "      <th>733758</th>\n",
       "      <td>15589328</td>\n",
       "      <td>2018-06-23</td>\n",
       "      <td>t</td>\n",
       "      <td>149.0</td>\n",
       "      <td>5</td>\n",
       "      <td>2018-06-23</td>\n",
       "      <td>6</td>\n",
       "    </tr>\n",
       "    <tr>\n",
       "      <th>733759</th>\n",
       "      <td>15589328</td>\n",
       "      <td>2018-06-22</td>\n",
       "      <td>t</td>\n",
       "      <td>149.0</td>\n",
       "      <td>4</td>\n",
       "      <td>2018-06-22</td>\n",
       "      <td>6</td>\n",
       "    </tr>\n",
       "    <tr>\n",
       "      <th>733766</th>\n",
       "      <td>15589328</td>\n",
       "      <td>2017-11-01</td>\n",
       "      <td>t</td>\n",
       "      <td>101.0</td>\n",
       "      <td>2</td>\n",
       "      <td>2017-11-01</td>\n",
       "      <td>11</td>\n",
       "    </tr>\n",
       "  </tbody>\n",
       "</table>\n",
       "<p>309288 rows × 7 columns</p>\n",
       "</div>"
      ],
      "text/plain": [
       "        listing_id       date available  price  weekday  date_month  month\n",
       "123       20872145 2018-04-02         t   62.0        0  2018-04-02      4\n",
       "124       20872145 2018-04-01         t   59.0        6  2018-04-01      4\n",
       "125       20872145 2018-03-31         t   75.0        5  2018-03-31      3\n",
       "126       20872145 2018-03-30         t   71.0        4  2018-03-30      3\n",
       "127       20872145 2018-03-28         t   51.0        2  2018-03-28      3\n",
       "...            ...        ...       ...    ...      ...         ...    ...\n",
       "733756    15589328 2018-06-26         t  149.0        1  2018-06-26      6\n",
       "733757    15589328 2018-06-25         t  149.0        0  2018-06-25      6\n",
       "733758    15589328 2018-06-23         t  149.0        5  2018-06-23      6\n",
       "733759    15589328 2018-06-22         t  149.0        4  2018-06-22      6\n",
       "733766    15589328 2017-11-01         t  101.0        2  2017-11-01     11\n",
       "\n",
       "[309288 rows x 7 columns]"
      ]
     },
     "execution_count": 6,
     "metadata": {},
     "output_type": "execute_result"
    }
   ],
   "source": [
    "df_train # weekday monday is 0, sunday is 6"
   ]
  },
  {
   "cell_type": "markdown",
   "metadata": {},
   "source": [
    "### Exploratory Analysis\n",
    "\n",
    "Visualize the average price by month and day of the week (i.e., Monday, Tuesday, etc.) for the training set. Point out any trends you notice and explain whether or not they make sense."
   ]
  },
  {
   "cell_type": "code",
   "execution_count": 6,
   "metadata": {},
   "outputs": [
    {
     "data": {
      "image/png": "[encoded data removed]",
      "text/plain": [
       "<Figure size 432x288 with 1 Axes>"
      ]
     },
     "metadata": {
      "needs_background": "light"
     },
     "output_type": "display_data"
    }
   ],
   "source": [
    "#your code here\n",
    "price=[]\n",
    "for i in range(7):\n",
    "    avg_price=df_train[df_train[\"weekday\"]==i]['price'].mean()\n",
    "    price.append(avg_price)\n",
    "    \n",
    "wkday=['Mon', 'Tue','Wed','Thu','Fri','Sat','Sun']\n",
    "\n",
    "plt.plot(wkday, price)\n",
    "plt.xlabel('Day of the Week')\n",
    "plt.ylabel('Average Price')\n",
    "plt.title('Average Price by Weekday')\n",
    "plt.show()\n",
    "\n"
   ]
  },
  {
   "cell_type": "code",
   "execution_count": 7,
   "metadata": {},
   "outputs": [
    {
     "data": {
      "image/png": "[encoded data removed]",
      "text/plain": [
       "<Figure size 432x288 with 1 Axes>"
      ]
     },
     "metadata": {
      "needs_background": "light"
     },
     "output_type": "display_data"
    }
   ],
   "source": [
    "# plot avg price per month\n",
    "m_price=[]\n",
    "for i in range(12):\n",
    "    avg_price=df_train[df_train[\"month\"]==i]['price'].mean()\n",
    "    m_price.append(avg_price)\n",
    "    \n",
    "months=['Jan', 'Feb', 'Mar','Apr','May','Jun','Jul','Aug','Sep','Oct','Nov','Dec']\n",
    "\n",
    "plt.plot(months, m_price)\n",
    "plt.xlabel('Month of the Year')\n",
    "plt.ylabel('Average Price')\n",
    "plt.title('Average Price by Month')\n",
    "plt.show()"
   ]
  },
  {
   "cell_type": "markdown",
   "metadata": {},
   "source": [
    " Here I've noticed that during a week, usually price picks up when it approaches weekend which makes a lot of sense by that people tend to travel more on weekends. For the average monthly price, it shows that the period from May to Nov seems to be the season when Airbnb prices are higher than other months throughout the year. "
   ]
  },
  {
   "cell_type": "markdown",
   "metadata": {},
   "source": [
    "### Explore different regression models\n",
    "\n",
    "Fit a regression model that uses the date as a predictor and predicts the price of an Airbnb rental on that date. In this section, you should ignore all other predictors besides the date. Fit the following models on the training set, and compare the $R^2$ of the fitted models on the test set. Include plots of the fitted models for each method.\n",
    "\n",
    "*Hint*: You may want to convert the `date` column into a numerical variable by taking the difference in days between each date and the earliest date in the column.\n",
    "\n",
    "1. Fit simple polynomial models of degree 2, 3, 5, and 8 to the training data. Provide train and test R^2 scores and provide plot(s) of a) the daily averages and b) each model's predictions.\n",
    "\n",
    "2. You should see that the degree 8 polynomial's predictions are awful- either nonsensically near zero [or far too large] at many input values. This isn't just simple overfitting. What is going wrong in this model, and how might it be addressed?\n",
    "\n",
    "3. Fit a Smoothing spline model in `pygam` with the smoothness parameter chosen by cross-validation on the training set. Provide the train and test scores of the best-performing model, and plot its predictions. Also plot the predictions of models with more and less smoothing. When plotting the smooths, show a scatterplot of the daily averages on the same axes, for context.\n",
    "\n",
    "4. Of the models, which performs the best? What is the effect of the tuning parameters (degree and smoothness penalty)?"
   ]
  },
  {
   "cell_type": "code",
   "execution_count": 8,
   "metadata": {},
   "outputs": [
    {
     "data": {
      "text/html": [
       "<div>\n",
       "<style scoped>\n",
       "    .dataframe tbody tr th:only-of-type {\n",
       "        vertical-align: middle;\n",
       "    }\n",
       "\n",
       "    .dataframe tbody tr th {\n",
       "        vertical-align: top;\n",
       "    }\n",
       "\n",
       "    .dataframe thead th {\n",
       "        text-align: right;\n",
       "    }\n",
       "</style>\n",
       "<table border=\"1\" class=\"dataframe\">\n",
       "  <thead>\n",
       "    <tr style=\"text-align: right;\">\n",
       "      <th></th>\n",
       "      <th>listing_id</th>\n",
       "      <th>date</th>\n",
       "      <th>available</th>\n",
       "      <th>price</th>\n",
       "    </tr>\n",
       "  </thead>\n",
       "  <tbody>\n",
       "    <tr>\n",
       "      <th>123</th>\n",
       "      <td>20872145</td>\n",
       "      <td>2018-04-02</td>\n",
       "      <td>t</td>\n",
       "      <td>62.0</td>\n",
       "    </tr>\n",
       "    <tr>\n",
       "      <th>124</th>\n",
       "      <td>20872145</td>\n",
       "      <td>2018-04-01</td>\n",
       "      <td>t</td>\n",
       "      <td>59.0</td>\n",
       "    </tr>\n",
       "    <tr>\n",
       "      <th>125</th>\n",
       "      <td>20872145</td>\n",
       "      <td>2018-03-31</td>\n",
       "      <td>t</td>\n",
       "      <td>75.0</td>\n",
       "    </tr>\n",
       "    <tr>\n",
       "      <th>126</th>\n",
       "      <td>20872145</td>\n",
       "      <td>2018-03-30</td>\n",
       "      <td>t</td>\n",
       "      <td>71.0</td>\n",
       "    </tr>\n",
       "    <tr>\n",
       "      <th>127</th>\n",
       "      <td>20872145</td>\n",
       "      <td>2018-03-28</td>\n",
       "      <td>t</td>\n",
       "      <td>51.0</td>\n",
       "    </tr>\n",
       "    <tr>\n",
       "      <th>...</th>\n",
       "      <td>...</td>\n",
       "      <td>...</td>\n",
       "      <td>...</td>\n",
       "      <td>...</td>\n",
       "    </tr>\n",
       "    <tr>\n",
       "      <th>733756</th>\n",
       "      <td>15589328</td>\n",
       "      <td>2018-06-26</td>\n",
       "      <td>t</td>\n",
       "      <td>149.0</td>\n",
       "    </tr>\n",
       "    <tr>\n",
       "      <th>733757</th>\n",
       "      <td>15589328</td>\n",
       "      <td>2018-06-25</td>\n",
       "      <td>t</td>\n",
       "      <td>149.0</td>\n",
       "    </tr>\n",
       "    <tr>\n",
       "      <th>733758</th>\n",
       "      <td>15589328</td>\n",
       "      <td>2018-06-23</td>\n",
       "      <td>t</td>\n",
       "      <td>149.0</td>\n",
       "    </tr>\n",
       "    <tr>\n",
       "      <th>733759</th>\n",
       "      <td>15589328</td>\n",
       "      <td>2018-06-22</td>\n",
       "      <td>t</td>\n",
       "      <td>149.0</td>\n",
       "    </tr>\n",
       "    <tr>\n",
       "      <th>733766</th>\n",
       "      <td>15589328</td>\n",
       "      <td>2017-11-01</td>\n",
       "      <td>t</td>\n",
       "      <td>101.0</td>\n",
       "    </tr>\n",
       "  </tbody>\n",
       "</table>\n",
       "<p>309288 rows × 4 columns</p>\n",
       "</div>"
      ],
      "text/plain": [
       "        listing_id       date available  price\n",
       "123       20872145 2018-04-02         t   62.0\n",
       "124       20872145 2018-04-01         t   59.0\n",
       "125       20872145 2018-03-31         t   75.0\n",
       "126       20872145 2018-03-30         t   71.0\n",
       "127       20872145 2018-03-28         t   51.0\n",
       "...            ...        ...       ...    ...\n",
       "733756    15589328 2018-06-26         t  149.0\n",
       "733757    15589328 2018-06-25         t  149.0\n",
       "733758    15589328 2018-06-23         t  149.0\n",
       "733759    15589328 2018-06-22         t  149.0\n",
       "733766    15589328 2017-11-01         t  101.0\n",
       "\n",
       "[309288 rows x 4 columns]"
      ]
     },
     "execution_count": 8,
     "metadata": {},
     "output_type": "execute_result"
    }
   ],
   "source": [
    "#your code here\n",
    "# changing the data to the difference in days\n",
    "df_train=pd.read_csv('data/calendar_train.csv', parse_dates=True)\n",
    "df_test=pd.read_csv('data/calendar_test.csv', parse_dates=True)\n",
    "\n",
    "df_train.dropna(inplace=True)\n",
    "df_test.dropna(inplace=True)\n",
    "\n",
    "df_train['date']=pd.to_datetime(df_train['date'])\n",
    "df_test['date']=pd.to_datetime(df_test['date'])\n",
    "\n",
    "df_train"
   ]
  },
  {
   "cell_type": "code",
   "execution_count": 9,
   "metadata": {},
   "outputs": [
    {
     "name": "stdout",
     "output_type": "stream",
     "text": [
      "2017-10-06 00:00:00\n"
     ]
    },
    {
     "data": {
      "text/html": [
       "<div>\n",
       "<style scoped>\n",
       "    .dataframe tbody tr th:only-of-type {\n",
       "        vertical-align: middle;\n",
       "    }\n",
       "\n",
       "    .dataframe tbody tr th {\n",
       "        vertical-align: top;\n",
       "    }\n",
       "\n",
       "    .dataframe thead th {\n",
       "        text-align: right;\n",
       "    }\n",
       "</style>\n",
       "<table border=\"1\" class=\"dataframe\">\n",
       "  <thead>\n",
       "    <tr style=\"text-align: right;\">\n",
       "      <th></th>\n",
       "      <th>listing_id</th>\n",
       "      <th>date</th>\n",
       "      <th>available</th>\n",
       "      <th>price</th>\n",
       "      <th>days</th>\n",
       "    </tr>\n",
       "  </thead>\n",
       "  <tbody>\n",
       "    <tr>\n",
       "      <th>123</th>\n",
       "      <td>20872145</td>\n",
       "      <td>2018-04-02</td>\n",
       "      <td>t</td>\n",
       "      <td>62.0</td>\n",
       "      <td>178</td>\n",
       "    </tr>\n",
       "    <tr>\n",
       "      <th>124</th>\n",
       "      <td>20872145</td>\n",
       "      <td>2018-04-01</td>\n",
       "      <td>t</td>\n",
       "      <td>59.0</td>\n",
       "      <td>177</td>\n",
       "    </tr>\n",
       "    <tr>\n",
       "      <th>125</th>\n",
       "      <td>20872145</td>\n",
       "      <td>2018-03-31</td>\n",
       "      <td>t</td>\n",
       "      <td>75.0</td>\n",
       "      <td>176</td>\n",
       "    </tr>\n",
       "    <tr>\n",
       "      <th>126</th>\n",
       "      <td>20872145</td>\n",
       "      <td>2018-03-30</td>\n",
       "      <td>t</td>\n",
       "      <td>71.0</td>\n",
       "      <td>175</td>\n",
       "    </tr>\n",
       "    <tr>\n",
       "      <th>127</th>\n",
       "      <td>20872145</td>\n",
       "      <td>2018-03-28</td>\n",
       "      <td>t</td>\n",
       "      <td>51.0</td>\n",
       "      <td>173</td>\n",
       "    </tr>\n",
       "    <tr>\n",
       "      <th>...</th>\n",
       "      <td>...</td>\n",
       "      <td>...</td>\n",
       "      <td>...</td>\n",
       "      <td>...</td>\n",
       "      <td>...</td>\n",
       "    </tr>\n",
       "    <tr>\n",
       "      <th>733756</th>\n",
       "      <td>15589328</td>\n",
       "      <td>2018-06-26</td>\n",
       "      <td>t</td>\n",
       "      <td>149.0</td>\n",
       "      <td>263</td>\n",
       "    </tr>\n",
       "    <tr>\n",
       "      <th>733757</th>\n",
       "      <td>15589328</td>\n",
       "      <td>2018-06-25</td>\n",
       "      <td>t</td>\n",
       "      <td>149.0</td>\n",
       "      <td>262</td>\n",
       "    </tr>\n",
       "    <tr>\n",
       "      <th>733758</th>\n",
       "      <td>15589328</td>\n",
       "      <td>2018-06-23</td>\n",
       "      <td>t</td>\n",
       "      <td>149.0</td>\n",
       "      <td>260</td>\n",
       "    </tr>\n",
       "    <tr>\n",
       "      <th>733759</th>\n",
       "      <td>15589328</td>\n",
       "      <td>2018-06-22</td>\n",
       "      <td>t</td>\n",
       "      <td>149.0</td>\n",
       "      <td>259</td>\n",
       "    </tr>\n",
       "    <tr>\n",
       "      <th>733766</th>\n",
       "      <td>15589328</td>\n",
       "      <td>2017-11-01</td>\n",
       "      <td>t</td>\n",
       "      <td>101.0</td>\n",
       "      <td>26</td>\n",
       "    </tr>\n",
       "  </tbody>\n",
       "</table>\n",
       "<p>309288 rows × 5 columns</p>\n",
       "</div>"
      ],
      "text/plain": [
       "        listing_id       date available  price  days\n",
       "123       20872145 2018-04-02         t   62.0   178\n",
       "124       20872145 2018-04-01         t   59.0   177\n",
       "125       20872145 2018-03-31         t   75.0   176\n",
       "126       20872145 2018-03-30         t   71.0   175\n",
       "127       20872145 2018-03-28         t   51.0   173\n",
       "...            ...        ...       ...    ...   ...\n",
       "733756    15589328 2018-06-26         t  149.0   263\n",
       "733757    15589328 2018-06-25         t  149.0   262\n",
       "733758    15589328 2018-06-23         t  149.0   260\n",
       "733759    15589328 2018-06-22         t  149.0   259\n",
       "733766    15589328 2017-11-01         t  101.0    26\n",
       "\n",
       "[309288 rows x 5 columns]"
      ]
     },
     "execution_count": 9,
     "metadata": {},
     "output_type": "execute_result"
    }
   ],
   "source": [
    "# calculating difference\n",
    "day0=min(df_train['date'])\n",
    "print(day0)\n",
    "\n",
    "df_train['days']=(df_train['date'].apply(lambda x:x-day0)).dt.days\n",
    "df_test['days']=(df_test['date'].apply(lambda x: x-day0)).dt.days\n",
    "\n",
    "df_train"
   ]
  },
  {
   "cell_type": "code",
   "execution_count": 10,
   "metadata": {},
   "outputs": [
    {
     "data": {
      "text/html": [
       "<div>\n",
       "<style scoped>\n",
       "    .dataframe tbody tr th:only-of-type {\n",
       "        vertical-align: middle;\n",
       "    }\n",
       "\n",
       "    .dataframe tbody tr th {\n",
       "        vertical-align: top;\n",
       "    }\n",
       "\n",
       "    .dataframe thead th {\n",
       "        text-align: right;\n",
       "    }\n",
       "</style>\n",
       "<table border=\"1\" class=\"dataframe\">\n",
       "  <thead>\n",
       "    <tr style=\"text-align: right;\">\n",
       "      <th></th>\n",
       "      <th>listing_id</th>\n",
       "      <th>price</th>\n",
       "      <th>days</th>\n",
       "    </tr>\n",
       "    <tr>\n",
       "      <th>date</th>\n",
       "      <th></th>\n",
       "      <th></th>\n",
       "      <th></th>\n",
       "    </tr>\n",
       "  </thead>\n",
       "  <tbody>\n",
       "    <tr>\n",
       "      <th>2017-10-06</th>\n",
       "      <td>1.322575e+07</td>\n",
       "      <td>370.173410</td>\n",
       "      <td>0.0</td>\n",
       "    </tr>\n",
       "    <tr>\n",
       "      <th>2017-10-07</th>\n",
       "      <td>1.258238e+07</td>\n",
       "      <td>409.298701</td>\n",
       "      <td>1.0</td>\n",
       "    </tr>\n",
       "    <tr>\n",
       "      <th>2017-10-08</th>\n",
       "      <td>1.217451e+07</td>\n",
       "      <td>299.128713</td>\n",
       "      <td>2.0</td>\n",
       "    </tr>\n",
       "    <tr>\n",
       "      <th>2017-10-09</th>\n",
       "      <td>1.232258e+07</td>\n",
       "      <td>282.768908</td>\n",
       "      <td>3.0</td>\n",
       "    </tr>\n",
       "    <tr>\n",
       "      <th>2017-10-10</th>\n",
       "      <td>1.227489e+07</td>\n",
       "      <td>275.933202</td>\n",
       "      <td>4.0</td>\n",
       "    </tr>\n",
       "    <tr>\n",
       "      <th>...</th>\n",
       "      <td>...</td>\n",
       "      <td>...</td>\n",
       "      <td>...</td>\n",
       "    </tr>\n",
       "    <tr>\n",
       "      <th>2018-10-01</th>\n",
       "      <td>1.039771e+07</td>\n",
       "      <td>239.277273</td>\n",
       "      <td>360.0</td>\n",
       "    </tr>\n",
       "    <tr>\n",
       "      <th>2018-10-02</th>\n",
       "      <td>1.060764e+07</td>\n",
       "      <td>231.923318</td>\n",
       "      <td>361.0</td>\n",
       "    </tr>\n",
       "    <tr>\n",
       "      <th>2018-10-03</th>\n",
       "      <td>1.063275e+07</td>\n",
       "      <td>236.257967</td>\n",
       "      <td>362.0</td>\n",
       "    </tr>\n",
       "    <tr>\n",
       "      <th>2018-10-04</th>\n",
       "      <td>1.037944e+07</td>\n",
       "      <td>236.434191</td>\n",
       "      <td>363.0</td>\n",
       "    </tr>\n",
       "    <tr>\n",
       "      <th>2018-10-05</th>\n",
       "      <td>1.065616e+07</td>\n",
       "      <td>256.160229</td>\n",
       "      <td>364.0</td>\n",
       "    </tr>\n",
       "  </tbody>\n",
       "</table>\n",
       "<p>365 rows × 3 columns</p>\n",
       "</div>"
      ],
      "text/plain": [
       "              listing_id       price   days\n",
       "date                                       \n",
       "2017-10-06  1.322575e+07  370.173410    0.0\n",
       "2017-10-07  1.258238e+07  409.298701    1.0\n",
       "2017-10-08  1.217451e+07  299.128713    2.0\n",
       "2017-10-09  1.232258e+07  282.768908    3.0\n",
       "2017-10-10  1.227489e+07  275.933202    4.0\n",
       "...                  ...         ...    ...\n",
       "2018-10-01  1.039771e+07  239.277273  360.0\n",
       "2018-10-02  1.060764e+07  231.923318  361.0\n",
       "2018-10-03  1.063275e+07  236.257967  362.0\n",
       "2018-10-04  1.037944e+07  236.434191  363.0\n",
       "2018-10-05  1.065616e+07  256.160229  364.0\n",
       "\n",
       "[365 rows x 3 columns]"
      ]
     },
     "execution_count": 10,
     "metadata": {},
     "output_type": "execute_result"
    }
   ],
   "source": [
    "# group by date (since 4 observations per day)\n",
    "df_train = df_train.groupby(df_train['date']).mean()\n",
    "df_test=df_test.groupby(df_test['date']).mean()\n",
    "\n",
    "df_train"
   ]
  },
  {
   "cell_type": "code",
   "execution_count": 11,
   "metadata": {},
   "outputs": [
    {
     "data": {
      "image/png": "[encoded data removed]",
      "text/plain": [
       "<Figure size 432x288 with 1 Axes>"
      ]
     },
     "metadata": {
      "needs_background": "light"
     },
     "output_type": "display_data"
    }
   ],
   "source": [
    "plt.scatter(df_train['days'], df_train['price'], alpha=0.6)\n",
    "plt.scatter(df_test['days'], df_test['price'],alpha=0.4)\n",
    "plt.show()"
   ]
  },
  {
   "cell_type": "markdown",
   "metadata": {},
   "source": [
    "### 1. Polynomials"
   ]
  },
  {
   "cell_type": "code",
   "execution_count": 48,
   "metadata": {},
   "outputs": [
    {
     "data": {
      "image/png": "[encoded data removed]",
      "text/plain": [
       "<Figure size 432x288 with 1 Axes>"
      ]
     },
     "metadata": {
      "needs_background": "light"
     },
     "output_type": "display_data"
    }
   ],
   "source": [
    "#your code here\n",
    "x_train=df_train['days'].values.reshape(-1,1)\n",
    "y_train=df_train['price'].values.reshape(-1,1)\n",
    "x_test=df_test['days'].values.reshape(-1,1)\n",
    "y_test=df_test['price'].values.reshape(-1,1)\n",
    "\n",
    "for d in [2,3,5,8]:\n",
    "    \n",
    "    polynomial_features=PolynomialFeatures(degree=d)\n",
    "    x_poly_train=polynomial_features.fit_transform(x_train)\n",
    "    x_poly_test=polynomial_features.fit_transform(x_test)\n",
    "    \n",
    "    model=LinearRegression()\n",
    "    model.fit(x_poly_train, y_train)\n",
    "    y_train_pred = model.predict(x_poly_train)\n",
    "    y_test_pred = model.predict(x_poly_test)\n",
    "    \n",
    "    # R2 score\n",
    "    r2_train = r2_score(y_train, y_train_pred)\n",
    "    r2_test = r2_score(y_test, y_test_pred)\n",
    "    \n",
    "    # plot\n",
    "    plt.plot(x_test, y_test_pred, label=f'degree {d}, $R^2$ test: {round(r2_test,2)},')\n",
    "plt.xlabel('Dates')\n",
    "plt.ylabel('Price')\n",
    "plt.title('Polynomial LinearRegression Models on test set')\n",
    "plt.legend(loc='best')\n",
    "plt.show()"
   ]
  },
  {
   "cell_type": "code",
   "execution_count": 49,
   "metadata": {},
   "outputs": [
    {
     "data": {
      "image/png": "[encoded data removed]",
      "text/plain": [
       "<Figure size 432x288 with 1 Axes>"
      ]
     },
     "metadata": {
      "needs_background": "light"
     },
     "output_type": "display_data"
    }
   ],
   "source": [
    "# plot the original data\n",
    "plt.scatter(x_test, y_test, alpha=0.4)\n",
    "\n",
    "for d in [2,3,5,8]:\n",
    "    \n",
    "    polynomial_features=PolynomialFeatures(degree=d)\n",
    "    x_poly_train=polynomial_features.fit_transform(x_train)\n",
    "    x_poly_test=polynomial_features.fit_transform(x_test)\n",
    "    \n",
    "    model=LinearRegression()\n",
    "    model.fit(x_poly_train, y_train)\n",
    "    y_train_pred = model.predict(x_poly_train)\n",
    "    y_test_pred = model.predict(x_poly_test)\n",
    "    \n",
    "    # R2 score\n",
    "    r2_train = r2_score(y_train, y_train_pred)\n",
    "    r2_test = r2_score(y_test, y_test_pred)\n",
    "    \n",
    "    # plot\n",
    "    plt.plot(x_test, y_test_pred, label=f'degree {d}, $R^2$ test: {round(r2_test,2)},')\n",
    "plt.xlabel('Dates')\n",
    "plt.ylabel('Price')\n",
    "plt.title('Polynomial LinearRegression Models on test set')\n",
    "plt.legend(loc='best')\n",
    "plt.show()"
   ]
  },
  {
   "cell_type": "markdown",
   "metadata": {},
   "source": [
    "_your answer here_\n",
    "\n",
    "it seems degree 5 has the best result fot both training set and test set."
   ]
  },
  {
   "cell_type": "markdown",
   "metadata": {},
   "source": [
    "### 2. Degree 8 oddity\n",
    "_your answer here_\n",
    "\n",
    "it seems that for degree 8, the model is diverging from the scattered dots when approaching to 0.  it is because the model is numerically it is not compatible. It can be addressed by converting float64 to float256, or by standardizing x value so they don't become too large as the polynomiial degree increases"
   ]
  },
  {
   "cell_type": "markdown",
   "metadata": {},
   "source": [
    "### 3. Smoothing spline model with the smoothness parameter chosen by cross-validation on the training set."
   ]
  },
  {
   "cell_type": "code",
   "execution_count": 50,
   "metadata": {},
   "outputs": [
    {
     "data": {
      "image/png": "[encoded data removed]",
      "text/plain": [
       "<Figure size 432x288 with 1 Axes>"
      ]
     },
     "metadata": {
      "needs_background": "light"
     },
     "output_type": "display_data"
    }
   ],
   "source": [
    "#your code here\n",
    "gam=LinearGAM(s(0, lam=1), n_splines=50).fit(x_train, y_train)\n",
    "x_grid = gam.generate_X_grid(term=0)\n",
    "y_pred_grid=gam.predict(x_grid)\n",
    "plt.scatter(x_train, y_train, alpha=0.4)\n",
    "plt.plot(x_grid, y_pred_grid)\n",
    "plt.show()"
   ]
  },
  {
   "cell_type": "markdown",
   "metadata": {},
   "source": [
    "### 4. Effects of parameters\n",
    "_your answer here_"
   ]
  },
  {
   "cell_type": "markdown",
   "metadata": {},
   "source": [
    "### Part 1b: Adapting to weekends\n",
    "\n",
    "It is possible/likely that prices on weekends (Friday nights and Saturday nights) are systematically higher than prices on weekdays, and that including this aspect of the data-generating process in our model will produce a better fit.\n",
    "\n",
    "5. Create a binary indicator of weekend versus non-weekend, and include it in your best-performing model from above. How does it impact the model's performance?  \n",
    "*Hint*: include a categorical variable in a GAM by importing and using `pygam.f` in the same way you've used `pygam.s` for continuous variables.\n"
   ]
  },
  {
   "cell_type": "code",
   "execution_count": 16,
   "metadata": {},
   "outputs": [],
   "source": [
    "#your code here\n"
   ]
  },
  {
   "cell_type": "markdown",
   "metadata": {},
   "source": [
    "### Part 1c: Going the Distance\n",
    "\n",
    "You may have noticed from your scatterplots of average price versus day on the training set that there are a few days with abnormally high average prices.\n",
    "\n",
    "Sort the training data in decreasing order of average price, extracting the 10 most expensive dates. Why are the prices on these days so high? Is it something about the days themselves, noise, an artifact of data collection, or something else?"
   ]
  },
  {
   "cell_type": "code",
   "execution_count": 3,
   "metadata": {},
   "outputs": [],
   "source": [
    "#your code here\n"
   ]
  },
  {
   "cell_type": "markdown",
   "metadata": {},
   "source": [
    "_your answer here_"
   ]
  },
  {
   "cell_type": "markdown",
   "metadata": {},
   "source": [
    "### Problem 2: Predicting Airbnb Rental Price Through Listing Features\n",
    "\n",
    "In this problem, we'll continue our exploration of Airbnb data by predicting price based on listing features. The data can be found in `listings_train.csv` and `listings_test.csv`.\n",
    "\n",
    "First, visualize the relationship between each of the predictors and the response variable. Does it appear that some of the predictors have a nonlinear relationship with the response variable?"
   ]
  },
  {
   "cell_type": "code",
   "execution_count": 21,
   "metadata": {},
   "outputs": [],
   "source": [
    "#your code here"
   ]
  },
  {
   "cell_type": "markdown",
   "metadata": {},
   "source": [
    "_your answer here_"
   ]
  },
  {
   "cell_type": "markdown",
   "metadata": {},
   "source": [
    "### Part 2a: Polynomial Regression\n",
    "\n",
    "Fit the following models on the training set and compare the $R^2$ score of the fitted models on the test set:\n",
    "    \n",
    "* Linear regression\n",
    "* Regression with polynomial basis functions of degree 3 (i.e., basis functions $x$, $x^2$, $x^3$ for each predictor $x$) for quantitative predictors."
   ]
  },
  {
   "cell_type": "code",
   "execution_count": 26,
   "metadata": {},
   "outputs": [],
   "source": [
    "#your code here"
   ]
  },
  {
   "cell_type": "markdown",
   "metadata": {},
   "source": [
    "### Part 2b: Generalized Additive Model (GAM)\n",
    "\n",
    "1. Do you see any advantage in fitting an additive regression model to these data, compared to the above models?\n",
    "\n",
    "1. Fit a GAM to the training set, and compare the test $R^2$ of the fitted model to the above models. You may use a smoothing spline basis function on each predictor, with the same smoothing parameter for each basis function, tuned using cross-validation on the training set.\n",
    "\n",
    "2. Plot and examine the smooth of each predictor for the fitted GAM. What are some useful insights conveyed by these plots?\n"
   ]
  },
  {
   "cell_type": "markdown",
   "metadata": {},
   "source": [
    "_your answer here_\n"
   ]
  },
  {
   "cell_type": "code",
   "execution_count": 31,
   "metadata": {},
   "outputs": [
    {
     "name": "stdout",
     "output_type": "stream",
     "text": [
      "f(0) + s(1) + s(2) + s(3) + s(4) + s(5) + s(6) + s(7) + s(8) + s(9) + s(10)\n"
     ]
    }
   ],
   "source": [
    "from pygam import LinearGAM, s, f\n",
    "from sklearn.preprocessing import LabelEncoder\n",
    "#your code here"
   ]
  },
  {
   "cell_type": "code",
   "execution_count": 4,
   "metadata": {},
   "outputs": [],
   "source": [
    "#your code here"
   ]
  },
  {
   "cell_type": "markdown",
   "metadata": {},
   "source": [
    "### Part 2c: Putting it All Together\n",
    "Using the GAM outputs and insights from part 1), discuss the most important variables in the driving prices, and give advide to a frugal traveller hoping to visit Boston."
   ]
  },
  {
   "cell_type": "markdown",
   "metadata": {},
   "source": [
    "_your answer here_"
   ]
  },
  {
   "cell_type": "code",
   "execution_count": null,
   "metadata": {},
   "outputs": [],
   "source": []
  }
 ],
 "metadata": {
  "kernelspec": {
   "display_name": "Python 3",
   "language": "python",
   "name": "python3"
  },
  "language_info": {
   "codemirror_mode": {
    "name": "ipython",
    "version": 3
   },
   "file_extension": ".py",
   "mimetype": "text/x-python",
   "name": "python",
   "nbconvert_exporter": "python",
   "pygments_lexer": "ipython3",
   "version": "3.7.6"
  }
 },
 "nbformat": 4,
 "nbformat_minor": 4
}
