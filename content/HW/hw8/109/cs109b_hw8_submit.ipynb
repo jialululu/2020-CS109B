{
 "cells": [
  {
   "cell_type": "markdown",
   "metadata": {
    "deletable": false,
    "editable": false
   },
   "source": [
    "# <img style=\"float: left; padding-right: 10px; width: 45px\" src=\"https://raw.githubusercontent.com/Harvard-IACS/2018-CS109A/master/content/styles/iacs.png\"> CS109B Data Science 2: Advanced Topics in Data Science \n",
    "\n",
    "##  Homework 8: Reinforcement Learning [100 pts]\n",
    "\n",
    "\n",
    "**Harvard University**<br/>\n",
    "**Spring 2020**<br/>\n",
    "**Instructors**: Pavlos Protopapas, Mark Glickman and Chris Tanner<br/>\n",
    "\n",
    "**DISCLAIMER**: No public reproduction of this homework nor its solution is allowed without the explicit consent of their authors.\n",
    "\n",
    "\n",
    "\n",
    "<hr style=\"height:2pt\">\n",
    "\n",
    "---"
   ]
  },
  {
   "cell_type": "code",
   "execution_count": 1,
   "metadata": {
    "deletable": false,
    "editable": false
   },
   "outputs": [
    {
     "data": {
      "text/html": [
       "<style>\n",
       "blockquote { background: #AEDE94; }\n",
       "h1 { \n",
       "    padding-top: 25px;\n",
       "    padding-bottom: 25px;\n",
       "    text-align: left; \n",
       "    padding-left: 10px;\n",
       "    background-color: #DDDDDD; \n",
       "    color: black;\n",
       "}\n",
       "h2 { \n",
       "    padding-top: 10px;\n",
       "    padding-bottom: 10px;\n",
       "    text-align: left; \n",
       "    padding-left: 5px;\n",
       "    background-color: #EEEEEE; \n",
       "    color: black;\n",
       "}\n",
       "\n",
       "div.exercise {\n",
       "\tbackground-color: #ffcccc;\n",
       "\tborder-color: #E9967A; \t\n",
       "\tborder-left: 5px solid #800080; \n",
       "\tpadding: 0.5em;\n",
       "}\n",
       "\n",
       "span.sub-q {\n",
       "\tfont-weight: bold;\n",
       "}\n",
       "div.theme {\n",
       "\tbackground-color: #DDDDDD;\n",
       "\tborder-color: #E9967A; \t\n",
       "\tborder-left: 5px solid #800080; \n",
       "\tpadding: 0.5em;\n",
       "\tfont-size: 18pt;\n",
       "}\n",
       "div.gc { \n",
       "\tbackground-color: #AEDE94;\n",
       "\tborder-color: #E9967A; \t \n",
       "\tborder-left: 5px solid #800080; \n",
       "\tpadding: 0.5em;\n",
       "\tfont-size: 12pt;\n",
       "}\n",
       "p.q1 { \n",
       "    padding-top: 5px;\n",
       "    padding-bottom: 5px;\n",
       "    text-align: left; \n",
       "    padding-left: 5px;\n",
       "    background-color: #EEEEEE; \n",
       "    color: black;\n",
       "}\n",
       "header {\n",
       "   padding-top: 35px;\n",
       "    padding-bottom: 35px;\n",
       "    text-align: left; \n",
       "    padding-left: 10px;\n",
       "    background-color: #DDDDDD; \n",
       "    color: black;\n",
       "}\n",
       "</style>\n",
       "\n"
      ],
      "text/plain": [
       "<IPython.core.display.HTML object>"
      ]
     },
     "execution_count": 1,
     "metadata": {},
     "output_type": "execute_result"
    }
   ],
   "source": [
    "#PLEASE RUN THIS CELL \n",
    "import requests\n",
    "from IPython.core.display import HTML\n",
    "styles = requests.get(\"https://raw.githubusercontent.com/Harvard-IACS/2018-CS109A/master/content/styles/cs109.css\").text\n",
    "HTML(styles)"
   ]
  },
  {
   "cell_type": "markdown",
   "metadata": {
    "deletable": false,
    "editable": false
   },
   "source": [
    "### INSTRUCTIONS\n",
    "\n",
    "- To submit your assignment follow the instructions given in Canvas.\n",
    "- Restart the kernel and run the whole notebook again before you submit.\n",
    "- Do not submit a notebook that is excessively long because output was not suppressed or otherwise limited. "
   ]
  },
  {
   "cell_type": "code",
   "execution_count": 2,
   "metadata": {
    "deletable": false,
    "editable": false
   },
   "outputs": [],
   "source": [
    "# Numpy and plotting libraries\n",
    "\n",
    "import numpy as np\n",
    "import matplotlib.pyplot as plt\n",
    "import time\n",
    "\n",
    "%matplotlib inline"
   ]
  },
  {
   "cell_type": "markdown",
   "metadata": {
    "deletable": false,
    "editable": false
   },
   "source": [
    "# Overview"
   ]
  },
  {
   "cell_type": "markdown",
   "metadata": {
    "deletable": false,
    "editable": false
   },
   "source": [
    "The objective of this homework assignment is to get a taste of implementing a planning algorithm in a very simple setting. "
   ]
  },
  {
   "cell_type": "markdown",
   "metadata": {
    "deletable": false,
    "editable": false
   },
   "source": [
    "<div class='exercise'><b>  Markov Decision Process [100 points] </b></div>\n",
    "\n",
    "\n",
    "We have a hallway consisting of 5 blocks (states 0-4). There are two actions, which deterministically move the agent to the left or the right. More explicitly: Performing action “left” in state 0 keeps you in state 0, moves you from state 1 to state 0, from state 2 to state 1, state 3 to state 2, and state 4 to state 3. Performing action “right” in state 4 keeps you in state 4, moves you from state 3 to state 4, from state 2 to state 3, from state 1 to state 2, and from state 0 to state 1. The agent receives a reward of -1.0 if it starts any iteration in state 0, state 1, state 2, or state 3. The agent receives a reward of +10.0 if it starts in state 4. Let the discount factor γ = 0.75.\n",
    "\n",
    "We provide class MDP that instantiates an object representing a Markov decision process and verifies shapes.\n",
    "\n",
    "**1.1** MDP proble [10 pts]: Build an MDP representing the hallway setting described above, by completing the function `build_hallway_mdp()`. You need to specify the array T that encodes the transitions from state and actions into next states; and a reward vector R that specifies the reward for being at a certain state.\n",
    "\n",
    "**1.2**  Policy Evaluation [20 pts]: Initialize a policy “left” for every state (a 1D numpy array). Implement policy evaluation as described in lecture (also in Chapter 4 of [Sutton and Barto](http://incompleteideas.net/book/RLbook2018.pdf)). That is, for each possible starting state, what is the expected sum of future rewards for this policy? Using an iterative approach, how many iterations did it take for the value of the policy to converge to a precision of 10−5? \n",
    "\n",
    "**1.3**  Q-function Computation [20 pts]: Compute the Q-function for the `always_left` policy above. Do you see any opportunties for policy improvement?\n",
    "\n",
    "**1.4** Policy Iteration [20 pts]: Using your solutions to questions 1.2 and 1.3 above, implement policy iteration. Report the sequence of policies you find starting with the policy “left” in every state. How many rounds of policy iteration are required to converge to the optimal policy? \n",
    "\n",
    "**1.5** [10 pts] What are the effects of different choices of the discount factor on the convergence of policy evaluation? Run policy evaluation for discount factor $\\gamma \\in [ 10^{-12}, 10^{-3}, 0.1, 0.33, 0.67, 0.9, 0.95, 0.99]$.\n",
    "\n",
    "**1.6** [20 pts] What happens if the transitions are stochastic? Recode the MDP with probability of switching to the opposite action of 0.1. What are now the values when following the optimal policy?"
   ]
  },
  {
   "cell_type": "code",
   "execution_count": 3,
   "metadata": {
    "deletable": false,
    "editable": false
   },
   "outputs": [],
   "source": [
    "class MDP(object):\n",
    "    \"\"\"Wrapper for a discrete Markov decision process that makes shape checks\"\"\"\n",
    "    \n",
    "    def __init__(self, T, R, discount):\n",
    "        \"\"\"Initialize the Markov Decision Process.\n",
    "        - `T` should be a 3D array whose dimensions represent initial states,\n",
    "          actions, and next states, respectively, and whose values represent\n",
    "          transition probabilities.\n",
    "        - `R` should be a 1D array describing rewards for beginning each\n",
    "          timestep in a particular state (or a 3D array like `T`). It will be\n",
    "          transformed into the appropriate 3D shape.\n",
    "        - `discount` should be a value in [0,1) controlling the decay of future\n",
    "          rewards.\"\"\"\n",
    "        Ds, Da, _ = T.shape\n",
    "        if T.shape not in [(Ds, Da, Ds)]:\n",
    "            raise ValueError(\"T should be in R^|S|x|A|x|S|\")\n",
    "        if R.shape not in [(Ds, Da, Ds), (Ds,)]:\n",
    "            raise ValueError(\"R should be in R^|S| or like T\")\n",
    "        if discount < 0 or discount >= 1:\n",
    "            raise ValueError(\"discount should be in [0,1)\")\n",
    "        if R.shape == (Ds,):  # Expand R if necessary\n",
    "            R = np.array([[[R[s1] for s2 in range(Ds)] for a in range(Da)] for s1 in range(Ds)])\n",
    "        self.T = T\n",
    "        self.R = R\n",
    "        self.discount = discount\n",
    "        self.num_states = Ds\n",
    "        self.num_actions = Da\n",
    "        self.states = np.arange(Ds)\n",
    "        self.actions = np.arange(Da)"
   ]
  },
  {
   "cell_type": "markdown",
   "metadata": {
    "autograde": "1.1",
    "deletable": false,
    "editable": false
   },
   "source": [
    "**1.1** MDP proble [10 pts]: Build an MDP representing the hallway setting described above, by completing the function `build_hallway_mdp()`. You need to specify the array T that encodes the transitions from state and actions into next states; and a reward vector R that specifies the reward for being at a certain state.\n"
   ]
  },
  {
   "cell_type": "code",
   "execution_count": 6,
   "metadata": {
    "deletable": false
   },
   "outputs": [],
   "source": [
    "def build_hallway_mdp():\n",
    "    \"\"\"Build an MDP representing the hallway setting described.\"\"\"\n",
    "    # your code here\n",
    "    T=[\n",
    "        [[1,0,0,0,0],[0,1,0,0,0]],\n",
    "        [[1,0,0,0,0],[0,0,1,0,0]],\n",
    "        [[0,1,0,0,0],[0,0,0,1,0]],\n",
    "        [[0,0,1,0,0],[0,0,0,0,1]],\n",
    "        [[0,0,0,1,0],[0,0,0,0,1]],\n",
    "    ]\n",
    "    R=[\n",
    "        [[-1,-1,-1,-1,-1],[-1,-1,-1,-1,-1]],\n",
    "        [[-1,-1,-1,-1,-1],[-1,-1,-1,-1,-1]],\n",
    "        [[-1,-1,-1,-1,-1],[-1,-1,-1,-1,-1]],\n",
    "        [[-1,-1,-1,-1,-1],[-1,-1,-1,-1,-1]],\n",
    "        [[10,10,10,10,10],[10,10,10,10,10]],\n",
    "    ]\n",
    "    T=np.array(T)\n",
    "    R=np.array(R)\n",
    "    # end of your code here\n",
    "    return MDP(T, R, 0.75)"
   ]
  },
  {
   "cell_type": "code",
   "execution_count": 7,
   "metadata": {
    "deletable": false,
    "editable": false,
    "scrolled": true
   },
   "outputs": [
    {
     "data": {
      "image/png": "[encoded data removed]",
      "text/plain": [
       "<Figure size 360x144 with 2 Axes>"
      ]
     },
     "metadata": {
      "needs_background": "light"
     },
     "output_type": "display_data"
    }
   ],
   "source": [
    "# Run for sanity check\n",
    "mdp = build_hallway_mdp()\n",
    "\n",
    "plt.figure(figsize=(5,2))\n",
    "plt.subplot(121, title='Left transitions')\n",
    "plt.imshow(mdp.T[:,0,:])\n",
    "plt.ylabel(\"Initial state\"); plt.xlabel('Next state')\n",
    "plt.subplot(122, title='Right transitions')\n",
    "plt.imshow(mdp.T[:,1,:])\n",
    "plt.ylabel(\"Initial state\"); plt.xlabel('Next state')\n",
    "plt.show()"
   ]
  },
  {
   "cell_type": "markdown",
   "metadata": {
    "autograde": "1.2",
    "deletable": false,
    "editable": false
   },
   "source": [
    "**1.2**  Policy Evaluation [20 pts]: Initialize a policy “left” for every state (a 1D numpy array). Implement policy evaluation as described in lecture (also in Chapter 4 of [Sutton and Barto](http://incompleteideas.net/book/RLbook2018.pdf)). That is, for each possible starting state, what is the expected sum of future rewards for this policy? Using an iterative approach, how many iterations did it take for the value of the policy to converge to a precision of 10−5?\n"
   ]
  },
  {
   "cell_type": "code",
   "execution_count": 52,
   "metadata": {
    "deletable": false
   },
   "outputs": [],
   "source": [
    "def build_always_left_policy():\n",
    "    \"\"\"Build a policy representing the action \"left\" in every state.\"\"\"\n",
    "    # your code here\n",
    "    T=[\n",
    "        [[1,0,0,0,0]],\n",
    "        [[1,0,0,0,0]],\n",
    "        [[0,1,0,0,0]],\n",
    "        [[0,0,1,0,0]],\n",
    "        [[0,0,0,1,0]],\n",
    "    ]\n",
    "    R=[-1,-1,-1,-1,10]\n",
    "    T=np.array(T)\n",
    "    R=np.array(R)\n",
    "    # end of your code here\n",
    "    return MDP(T, R, 0.75)"
   ]
  },
  {
   "cell_type": "code",
   "execution_count": 186,
   "metadata": {
    "deletable": false
   },
   "outputs": [],
   "source": [
    "def iterative_value_estimation(mdp, policy, tol=1e-5):\n",
    "    \"\"\"Value estimation algorithm from page 75, Sutton and Barto. Returns an\n",
    "    estimate of the value of a given policy under the MDP (with the number of\n",
    "    iterations required to reach specified tolerance).\"\"\"\n",
    "    V = np.zeros(mdp.num_states)\n",
    "    num_iters = 0\n",
    "    \n",
    "    # your code here\n",
    "    prev_V = V.copy(1)\n",
    "    r = np.array([-1,-1,-1,-1,10])\n",
    "    while True:\n",
    "        num_iters += 1\n",
    "        for s in range(mdp.num_states):\n",
    "            Q = policy.T.dot(mdp.discount*V)\n",
    "            V[s] = max(Q[s,:]) + r[s]           \n",
    "        delta = V - prev_V\n",
    "        if np.linalg.norm(delta, ord=1) < tol:\n",
    "            break\n",
    "        prev_V = V.copy(1)\n",
    "    # end of your code here\n",
    "    \n",
    "    return V, num_iters"
   ]
  },
  {
   "cell_type": "code",
   "execution_count": 187,
   "metadata": {
    "deletable": false,
    "editable": false
   },
   "outputs": [
    {
     "name": "stderr",
     "output_type": "stream",
     "text": [
      "C:\\Users\\pku_wd\\Anaconda3\\envs\\cs109b\\lib\\site-packages\\ipykernel_launcher.py:9: DeprecationWarning: Non-string object detected for the array ordering. Please pass in 'C', 'F', 'A', or 'K' instead\n",
      "  if __name__ == '__main__':\n",
      "C:\\Users\\pku_wd\\Anaconda3\\envs\\cs109b\\lib\\site-packages\\ipykernel_launcher.py:19: DeprecationWarning: Non-string object detected for the array ordering. Please pass in 'C', 'F', 'A', or 'K' instead\n"
     ]
    },
    {
     "name": "stdout",
     "output_type": "stream",
     "text": [
      "Policy value was:\n",
      "[-4. -4. -4. -4.  7.]\n"
     ]
    },
    {
     "data": {
      "image/png": "[encoded data removed]",
      "text/plain": [
       "<Figure size 432x288 with 1 Axes>"
      ]
     },
     "metadata": {
      "needs_background": "light"
     },
     "output_type": "display_data"
    }
   ],
   "source": [
    "# Run for sanity check\n",
    "always_left = build_always_left_policy()\n",
    "\n",
    "values, iters = iterative_value_estimation(mdp, always_left)\n",
    "print('Policy value was:')\n",
    "print(values.round(4))\n",
    "\n",
    "tols = np.logspace(0,-8,9)\n",
    "iters = [iterative_value_estimation(mdp, always_left, tol=tol)[1] for tol in tols]\n",
    "plt.plot(tols, iters, marker='o')\n",
    "plt.xscale('log')\n",
    "plt.xlabel(\"Tolerance\")\n",
    "plt.ylabel(\"Iterations to converge to within tolerance\")\n",
    "plt.show()"
   ]
  },
  {
   "cell_type": "markdown",
   "metadata": {
    "autograde": "1.3",
    "deletable": false,
    "editable": false
   },
   "source": [
    "**1.3**  Q-function Computation [20 pts]: Compute the Q-function for the `always_left` policy above. Do you see any opportunties for policy improvement?\n"
   ]
  },
  {
   "cell_type": "code",
   "execution_count": 188,
   "metadata": {
    "deletable": false
   },
   "outputs": [],
   "source": [
    "# 1.3\n",
    "def Q_function(mdp, policy, tol=1e-5):\n",
    "    \"\"\"Q function from Equation 4.6, Sutton and Barto. For each state and\n",
    "    action, returns the value of performing the action at that state, then\n",
    "    following the policy thereafter.\"\"\"\n",
    "    # your code here\n",
    "    V,_ = iterative_value_estimation(mdp,policy)\n",
    "    Q = np.zeros((mdp.num_states,mdp.num_actions))\n",
    "    r = np.array([-1,-1,-1,-1,10])\n",
    "    for i in range(mdp.num_states):\n",
    "        for j in range(mdp.num_actions):\n",
    "            t = i - 1\n",
    "            if (j > 0): t = i + 1\n",
    "            if (t < 0): t = 0\n",
    "            if (t == mdp.num_states): t = mdp.num_states-1\n",
    "            (Q[i])[j] = (mdp.discount)*V[t] + r[i]\n",
    "    # end of your code here\n",
    "    assert Q.shape == (mdp.num_states, mdp.num_actions)\n",
    "    return Q"
   ]
  },
  {
   "cell_type": "code",
   "execution_count": 189,
   "metadata": {
    "deletable": false,
    "editable": false
   },
   "outputs": [
    {
     "name": "stdout",
     "output_type": "stream",
     "text": [
      "Q function was:\n",
      "[[-4.   -4.  ]\n",
      " [-4.   -4.  ]\n",
      " [-4.   -4.  ]\n",
      " [-4.    4.25]\n",
      " [ 7.   15.25]]\n"
     ]
    },
    {
     "name": "stderr",
     "output_type": "stream",
     "text": [
      "C:\\Users\\pku_wd\\Anaconda3\\envs\\cs109b\\lib\\site-packages\\ipykernel_launcher.py:9: DeprecationWarning: Non-string object detected for the array ordering. Please pass in 'C', 'F', 'A', or 'K' instead\n",
      "  if __name__ == '__main__':\n",
      "C:\\Users\\pku_wd\\Anaconda3\\envs\\cs109b\\lib\\site-packages\\ipykernel_launcher.py:19: DeprecationWarning: Non-string object detected for the array ordering. Please pass in 'C', 'F', 'A', or 'K' instead\n"
     ]
    }
   ],
   "source": [
    "# Run for sanity check\n",
    "\n",
    "Q = Q_function(mdp, always_left)\n",
    "print('Q function was:')\n",
    "print(Q.round(4))"
   ]
  },
  {
   "cell_type": "markdown",
   "metadata": {
    "deletable": false
   },
   "source": [
    "Yes, there is room for policy improvement. We can see that when you take a right move at first, then the Q-function value is higher than the V-function of always-left policy."
   ]
  },
  {
   "cell_type": "markdown",
   "metadata": {
    "autograde": "1.4",
    "deletable": false,
    "editable": false
   },
   "source": [
    "**1.4** Policy Iteration [20 pts]: Using your solutions to questions 1.2 and 1.3 above, implement policy iteration. Report the sequence of policies you find starting with the policy “left” in every state. How many rounds of policy iteration are required to converge to the optimal policy?\n"
   ]
  },
  {
   "cell_type": "code",
   "execution_count": 235,
   "metadata": {
    "deletable": false
   },
   "outputs": [],
   "source": [
    "# 1.4\n",
    "def policy_iteration(mdp, init_policy=None, tol=1e-5):\n",
    "    \"\"\"Policy iteration algorithm from page 80, Sutton and Barto.\n",
    "    Iteratively transform the initial policy to become optimal.\n",
    "    Return the full path.\"\"\"\n",
    "    # your code here\n",
    "    policies = np.zeros(mdp.num_states)\n",
    "    prev_pi = policies.copy(1)\n",
    "    steps = 0\n",
    "    r = np.array([-1,-1,-1,-1,10])\n",
    "    while True:\n",
    "        steps += 1\n",
    "        V,_ = iterative_value_estimation(mdp,init_policy,tol)\n",
    "        for s in range(mdp.num_states):\n",
    "            Q = init_policy.T.dot(mdp.discount*V) \n",
    "            t1=s+1\n",
    "            if (t1==mdp.num_states): t1=mdp.num_states-1\n",
    "            t2=s-1\n",
    "            if (t2<0): t2=0\n",
    "            s1=max(Q[t1,:])+r[t1]\n",
    "            s2=max(Q[t2,:])+r[t2]\n",
    "            tt=t1\n",
    "            if (s1<s2): tt=t2 \n",
    "            policies[s] = tt\n",
    "        if np.linalg.norm(policies-prev_pi, ord=1) < 1:\n",
    "            break\n",
    "        prev_pi = policies.copy(1)\n",
    "        T = np.zeros((mdp.num_states,mdp.num_actions,mdp.num_states))\n",
    "        for i in range(mdp.num_states):\n",
    "            delta=policies[i]-i\n",
    "            if (delta>0): \n",
    "                flag=1\n",
    "                if (delta==0 and i==mdp.num_states-1): flag=1\n",
    "            else:\n",
    "                flag=0\n",
    "            ttt=int(policies[i])\n",
    "            T[i,flag,ttt]=1\n",
    "        init_policy=MDP(T, r, 0.75)\n",
    "    print(\"steps\",steps)\n",
    "    # end of your code here\n",
    "    return policies"
   ]
  },
  {
   "cell_type": "code",
   "execution_count": 236,
   "metadata": {
    "deletable": false,
    "editable": false
   },
   "outputs": [
    {
     "name": "stdout",
     "output_type": "stream",
     "text": [
      "steps 3\n"
     ]
    },
    {
     "name": "stderr",
     "output_type": "stream",
     "text": [
      "C:\\Users\\pku_wd\\Anaconda3\\envs\\cs109b\\lib\\site-packages\\ipykernel_launcher.py:8: DeprecationWarning: Non-string object detected for the array ordering. Please pass in 'C', 'F', 'A', or 'K' instead\n",
      "  \n",
      "C:\\Users\\pku_wd\\Anaconda3\\envs\\cs109b\\lib\\site-packages\\ipykernel_launcher.py:9: DeprecationWarning: Non-string object detected for the array ordering. Please pass in 'C', 'F', 'A', or 'K' instead\n",
      "  if __name__ == '__main__':\n",
      "C:\\Users\\pku_wd\\Anaconda3\\envs\\cs109b\\lib\\site-packages\\ipykernel_launcher.py:19: DeprecationWarning: Non-string object detected for the array ordering. Please pass in 'C', 'F', 'A', or 'K' instead\n",
      "C:\\Users\\pku_wd\\Anaconda3\\envs\\cs109b\\lib\\site-packages\\ipykernel_launcher.py:27: DeprecationWarning: Non-string object detected for the array ordering. Please pass in 'C', 'F', 'A', or 'K' instead\n"
     ]
    },
    {
     "data": {
      "text/plain": [
       "array([1., 2., 3., 4., 4.])"
      ]
     },
     "execution_count": 236,
     "metadata": {},
     "output_type": "execute_result"
    }
   ],
   "source": [
    "# Sanity check\n",
    "\n",
    "policy_iters = policy_iteration(mdp, always_left)\n",
    "policy_iters"
   ]
  },
  {
   "cell_type": "markdown",
   "metadata": {
    "deletable": false
   },
   "source": [
    "It costs 3 rounds of policy iterations and it is obvious that moving to the right is a better solution."
   ]
  },
  {
   "cell_type": "markdown",
   "metadata": {
    "autograde": "1.5",
    "deletable": false,
    "editable": false
   },
   "source": [
    "**1.5** [10 pts] What are the effects of different choices of the discount factor on the convergence of policy evaluation? Run policy evaluation for discount factor $\\gamma \\in [ 10^{-12}, 10^{-3}, 0.1, 0.33, 0.67, 0.9, 0.95, 0.99]$.\n"
   ]
  },
  {
   "cell_type": "code",
   "execution_count": 238,
   "metadata": {
    "deletable": false
   },
   "outputs": [
    {
     "name": "stderr",
     "output_type": "stream",
     "text": [
      "C:\\Users\\pku_wd\\Anaconda3\\envs\\cs109b\\lib\\site-packages\\ipykernel_launcher.py:9: DeprecationWarning: Non-string object detected for the array ordering. Please pass in 'C', 'F', 'A', or 'K' instead\n",
      "  if __name__ == '__main__':\n",
      "C:\\Users\\pku_wd\\Anaconda3\\envs\\cs109b\\lib\\site-packages\\ipykernel_launcher.py:19: DeprecationWarning: Non-string object detected for the array ordering. Please pass in 'C', 'F', 'A', or 'K' instead\n"
     ]
    }
   ],
   "source": [
    "# 1.5\n",
    "# your code here\n",
    "\n",
    "discount_factors=np.array([1e-12,1e-3,0.1,0.33,0.67,0.9,0.95,0.99])\n",
    "iters_by_factor=[]\n",
    "for l in discount_factors:\n",
    "    l1,l2 = iterative_value_estimation(mdp, always_left,l)\n",
    "    iters_by_factor.append(l2)"
   ]
  },
  {
   "cell_type": "code",
   "execution_count": 240,
   "metadata": {
    "deletable": false,
    "editable": false
   },
   "outputs": [
    {
     "data": {
      "image/png": "[encoded data removed]",
      "text/plain": [
       "<Figure size 432x288 with 1 Axes>"
      ]
     },
     "metadata": {
      "needs_background": "light"
     },
     "output_type": "display_data"
    }
   ],
   "source": [
    "plt.plot(discount_factors, iters_by_factor, marker='o')\n",
    "plt.xlabel('Discount factor $\\gamma$')\n",
    "plt.ylabel('Iterations for value estimate to converge')\n",
    "plt.title(\"Convergence of value estimate by $\\gamma$\")\n",
    "plt.show()"
   ]
  },
  {
   "cell_type": "markdown",
   "metadata": {
    "deletable": false
   },
   "source": [
    "The effects of different choices of the discount factor are very clear: bigger discount factor greatly reduces the iterations needed for convergence."
   ]
  },
  {
   "cell_type": "markdown",
   "metadata": {
    "autograde": "1.6",
    "deletable": false,
    "editable": false
   },
   "source": [
    "**1.6** [20 pts] What happens if the transitions are stochastic? Recode the MDP with probability of switching to the opposite action of 0.1. What are now the values when following the optimal policy?"
   ]
  },
  {
   "cell_type": "code",
   "execution_count": 242,
   "metadata": {},
   "outputs": [],
   "source": [
    "def build_optimal_stochastic_policy():\n",
    "    \"\"\"Build a policy representing the action \"left\" in every state.\"\"\"\n",
    "    # your code here\n",
    "    T=[\n",
    "        [[0.1,0,0,0,0],[0,0.9,0,0,0]],\n",
    "        [[0.1,0,0,0,0],[0,0,0.9,0,0]],\n",
    "        [[0,0.1,0,0,0],[0,0,0,0.9,0]],\n",
    "        [[0,0,0.1,0,0],[0,0,0,0,0.9]],\n",
    "        [[0,0,0,0.1,0],[0,0,0,0,0.9]],\n",
    "    ]\n",
    "    R=[-1,-1,-1,-1,10]\n",
    "    T=np.array(T)\n",
    "    R=np.array(R)\n",
    "    # end of your code here\n",
    "    return MDP(T, R, 0.75)"
   ]
  },
  {
   "cell_type": "code",
   "execution_count": 243,
   "metadata": {
    "deletable": false
   },
   "outputs": [
    {
     "name": "stdout",
     "output_type": "stream",
     "text": [
      "[ 3.94933706  7.33235268 12.34422768 19.76922768 30.76922768]\n"
     ]
    },
    {
     "name": "stderr",
     "output_type": "stream",
     "text": [
      "C:\\Users\\pku_wd\\Anaconda3\\envs\\cs109b\\lib\\site-packages\\ipykernel_launcher.py:5: DeprecationWarning: Non-string object detected for the array ordering. Please pass in 'C', 'F', 'A', or 'K' instead\n",
      "  \"\"\"\n",
      "C:\\Users\\pku_wd\\Anaconda3\\envs\\cs109b\\lib\\site-packages\\ipykernel_launcher.py:15: DeprecationWarning: Non-string object detected for the array ordering. Please pass in 'C', 'F', 'A', or 'K' instead\n",
      "  from ipykernel import kernelapp as app\n"
     ]
    }
   ],
   "source": [
    "# 1.6\n",
    "# your code here\n",
    "mdp_t=build_optimal_stochastic_policy()\n",
    "V = np.zeros(mdp_t.num_states)    \n",
    "prev_V = V.copy(1)\n",
    "r = np.array([-1,-1,-1,-1,10])\n",
    "tol=1e-5\n",
    "while True:\n",
    "    for s in range(mdp_t.num_states):\n",
    "        Q = mdp_t.T.dot(mdp_t.discount*V)\n",
    "        V[s] = max(Q[s,:]) + r[s]           \n",
    "    delta = V - prev_V\n",
    "    if np.linalg.norm(delta, ord=1) < tol:\n",
    "        break\n",
    "    prev_V = V.copy(1)\n",
    "print(V)"
   ]
  },
  {
   "cell_type": "markdown",
   "metadata": {
    "deletable": false
   },
   "source": [
    "The value estimation increases compared with the always-left policy but decreases compared with the optimal policy. The current values are shown above."
   ]
  },
  {
   "cell_type": "code",
   "execution_count": null,
   "metadata": {},
   "outputs": [],
   "source": []
  }
 ],
 "metadata": {
  "@webio": {
   "lastCommId": null,
   "lastKernelId": null
  },
  "kernelspec": {
   "display_name": "Python 3",
   "language": "python",
   "name": "python3"
  },
  "language_info": {
   "codemirror_mode": {
    "name": "ipython",
    "version": 3
   },
   "file_extension": ".py",
   "mimetype": "text/x-python",
   "name": "python",
   "nbconvert_exporter": "python",
   "pygments_lexer": "ipython3",
   "version": "3.7.6"
  }
 },
 "nbformat": 4,
 "nbformat_minor": 4
}
